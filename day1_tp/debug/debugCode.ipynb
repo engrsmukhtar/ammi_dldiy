!python main.py --seed 1
